{
  "cells": [
    {
      "cell_type": "code",
      "execution_count": null,
      "metadata": {
        "id": "pCjn_uhuZz5E"
      },
      "outputs": [],
      "source": [
        "install.packages(\"igraph\")\n",
        "library('igraph')"
      ]
    },
    {
      "cell_type": "code",
      "source": [
        "if (!require(\"clevr\")) install.packages(\"clevr\")\n",
        "library (\"clevr\")"
      ],
      "metadata": {
        "id": "nCLIVlqjGJ3-"
      },
      "execution_count": null,
      "outputs": []
    },
    {
      "cell_type": "markdown",
      "source": [
        "**Import the finance data**"
      ],
      "metadata": {
        "id": "eMEo8QTJGqaj"
      }
    },
    {
      "cell_type": "code",
      "source": [
        "path = \"finance_data/data/\"\n",
        "out.file<-\"\"\n",
        "file.names <- dir(path, pattern =\".csv\")\n",
        "m <- matrix(, nrow = 0, ncol = 765)\n",
        "sectors.table <- read.table(\"finance_data/Name_sector.csv\",header=TRUE, sep=\",\", stringsAsFactors=TRUE)\n",
        "sectors = c()\n",
        "sectors.names <- c()\n",
        "for(i in 1:length(file.names)){\n",
        "    file <- read.table(paste(\"finance_data/data/\",file.names[i],sep = \"\"),header=TRUE, sep=\",\", stringsAsFactors=FALSE)\n",
        "    if(length(file$Close)==765){\n",
        "        m <- rbind(m, matrix(file$Close, nrow=1, ncol=765))\n",
        "        mystr <- substr(file.names[i], 1, nchar(file.names[i])-4)\n",
        "        sector <- sectors.table$Sector[which(sectors.table$Symbol == mystr)]\n",
        "        sectors.names = c(sectors.names, toString(sector))\n",
        "    }\n",
        "}\n",
        "com_num = length(sectors.names)\n",
        "data_num = ncol(m)\n",
        "sector.set<-as.factor(sectors.names)\n",
        "sectors.index<-as.numeric(sector.set)\n",
        "num_sector <- length(unique(sectors.index))\n",
        "table(sector.set)"
      ],
      "metadata": {
        "id": "rbeb68aXJl2z"
      },
      "execution_count": null,
      "outputs": []
    },
    {
      "cell_type": "code",
      "source": [
        "ticker_sector = read.csv(\"finance_data/Name_sector.csv\", header=TRUE, stringsAsFactors=FALSE)\n",
        "unique_sector = unique(ticker_sector[,2])\n",
        "print(sprintf(\"The Number of Companies in The Ticker List is: %s\", nrow(ticker_sector)))\n",
        "print(sprintf(\"The Number of Unique Sectors: %s\", length(unique_sector)))"
      ],
      "metadata": {
        "id": "0ejPau4KGpef"
      },
      "execution_count": null,
      "outputs": []
    },
    {
      "cell_type": "code",
      "source": [
        "# the function for calculate the correlation\n",
        "calculate_correlation <- function(edge_file, log_return, ticker_sector)\n",
        "{\n",
        "  cat(\"start\", \"\\t\", \"end\", \"\\t\", \"weight\", file=edge_file)\n",
        "  number_of_comp = dim(ticker_sector)[1]\n",
        "  for(tempI in c(1:(number_of_comp-1))){\n",
        "      for(tempJ in c((tempI+1):number_of_comp)){\n",
        "          r_i = mean(log_return[tempI,])\n",
        "          r_j = mean(log_return[tempJ,])\n",
        "          r_ij = mean(log_return[tempI,] * log_return[tempJ,])\n",
        "          r_i_squared = log_return[tempI,]^2\n",
        "          r_j_squared = log_return[tempJ,]^2\n",
        "          p_ij = (r_ij - (r_i * r_j)) / (sqrt((mean(r_i_squared)-(r_i^2)) * (mean(r_j_squared)-(r_j^2))))\n",
        "          w_ij = sqrt(2 * (1-p_ij))\n",
        "          cat('\\n', ticker_sector[tempI, 1], '\\t', ticker_sector[tempJ, 1], '\\t', w_ij, file=edge_file)\n",
        "      }\n",
        "   }\n",
        "}"
      ],
      "metadata": {
        "id": "TraAjJTVYdDF"
      },
      "execution_count": null,
      "outputs": []
    },
    {
      "cell_type": "markdown",
      "source": [
        "**Question 2 - 5 for DAILY data**\n"
      ],
      "metadata": {
        "id": "ELE3Jn7NLuMM"
      }
    },
    {
      "cell_type": "markdown",
      "source": [
        "QUESTION 2: Plot a histogram showing the un-normalized distribution of edge weights."
      ],
      "metadata": {
        "id": "Gj-T_xU4L3Uj"
      }
    },
    {
      "cell_type": "code",
      "source": [
        "# obtain the file names from the finance data\n",
        "filenames <- paste(\"finance_data/data\", list.files(\"finance_data/data\", pattern=\"*.csv\"), sep=\"/\")\n",
        "# generate a empty array to store the companies with missing data\n",
        "miss_data_comp <- c()\n",
        "# generate a empty array to stor the log return\n",
        "log_return <- matrix(0, length(filenames), 764)\n",
        "\n",
        "for (tempIndex in c(1:length(filenames)))\n",
        "{\n",
        "  # store the current company data\n",
        "  temp_comp_data <- read.csv(filenames[tempIndex], header=TRUE, stringsAsFactors=FALSE)\n",
        "  # judge whether the company has some missing data through checking the dimension\n",
        "  if(dim(temp_comp_data)[1] != 765)\n",
        "  {\n",
        "    miss_data_comp <- append(miss_data_comp, tempIndex)\n",
        "  }\n",
        "  else\n",
        "  {\n",
        "    p_i <- temp_comp_data[,5]\n",
        "    q_i <- c()\n",
        "    r_i <- c()\n",
        "    for (tempT in c(2:length(p_i)))\n",
        "    {\n",
        "      q_i[tempT-1] <- (p_i[tempT] - p_i[tempT-1])/p_i[tempT - 1]\n",
        "    }\n",
        "    r_i = log(q_i + 1)\n",
        "    log_return[tempIndex,] = r_i\n",
        "  }\n",
        "}\n",
        "ticker_sector <- ticker_sector[-miss_data_comp,]\n",
        "log_return <- log_return[-miss_data_comp,]"
      ],
      "metadata": {
        "id": "cXLtpeHzL7z9"
      },
      "execution_count": null,
      "outputs": []
    },
    {
      "cell_type": "code",
      "source": [
        "edge_file <- file(\"finance_data/edges_date_daily.txt\", \"w\")\n",
        "calculate_correlation(edge_file, log_return, ticker_sector)\n",
        "close(edge_file)"
      ],
      "metadata": {
        "id": "IgST9lM-L8G8"
      },
      "execution_count": null,
      "outputs": []
    },
    {
      "cell_type": "code",
      "source": [
        "edge_list = read.delim(\"finance_data/edges_date_daily.txt\", header=TRUE)\n",
        "graph_frame = graph.data.frame(edge_list, directed = FALSE)\n",
        "E(graph_frame)$weight = edge_list[,\"weight\"]\n",
        "hist(E(graph_frame)$weight, col=\"orange\", main=\"The  Distribution of Un-Normalized Edge Weights for Daily\",xlab=\"The Edge Weights\", ylab=\"The Frequency of Edge Weights\")"
      ],
      "metadata": {
        "id": "KxlOpfZ2YgoF"
      },
      "execution_count": null,
      "outputs": []
    },
    {
      "cell_type": "markdown",
      "source": [
        "QUESTION 3: Extract the MST of the correlation graph. Each stock can be categorized into a sector, which can be found in Name sector.csv file. Plot the MST and color-code the nodes\n",
        "based on sectors. Do you see any pattern in the MST? The structures that you find in MST are called Vine clusters. Provide a detailed explanation about the pattern you observe"
      ],
      "metadata": {
        "id": "cf-YifNEb90o"
      }
    },
    {
      "cell_type": "code",
      "source": [
        "# generate a empty array to stor the index of each sector\n",
        "sector_index <- c()\n",
        "colorPalette <- rainbow(length(unique_sector), s = 1, v = 1)\n",
        "for(tempIndex in c(1:vcount(graph_frame))) \n",
        "{\n",
        "    sector_index = append(sector_index, which(unique_sector == ticker_sector[tempIndex, 2]))\n",
        "}\n",
        "MST <- mst(graph_frame, algorithm=\"prim\")\n",
        "\n",
        "# Set a larger plot size\n",
        "options(repr.plot.width = 8, repr.plot.height = 12)\n",
        "\n",
        "plot(MST, vertex.size=3, vertex.label=NA, vertex.color=colorPalette[sector_index])\n",
        "\n",
        "# Custom legend with color squares and names\n",
        "legend_colors <- colorPalette\n",
        "legend_names <- unique_sector\n",
        "legend(x=-1,y = -1, legend = legend_names, fill = legend_colors, bty = \"n\", ncol=2, cex = 1)\n",
        "\n",
        "par(xpd=TRUE)\n",
        "title(\"The MST of The Correlation Graph\")\n",
        "\n"
      ],
      "metadata": {
        "id": "cCqTlo-Ib8QA"
      },
      "execution_count": null,
      "outputs": []
    },
    {
      "cell_type": "markdown",
      "source": [
        "QUESTION 4: Run a community detection algorithm (for example walktrap) on the MST obtained above. Plot the communities formed. Compute the homogeneity and completeness of the clustering. (you can use the ’clevr’ library in r to compute homogeneity and completeness)."
      ],
      "metadata": {
        "id": "xWwPl3-YKi3R"
      }
    },
    {
      "cell_type": "code",
      "source": [
        "graph_community = cluster_walktrap(MST)\n",
        "# Set a larger plot size\n",
        "options(repr.plot.width = 8, repr.plot.height = 8)\n",
        "plot(MST, mark.groups=graph_community, edge.width=0.5,\n",
        "     vertex.size=3, vertex.color=graph_community$membership, vertex.label=\"\",\n",
        "     main=\"The Community Structure for The MST\")"
      ],
      "metadata": {
        "id": "xf2ds5I2KltZ"
      },
      "execution_count": null,
      "outputs": []
    },
    {
      "cell_type": "code",
      "source": [
        "# homogeneity and completeness\n",
        "# figure out true and pred\n",
        "true <- c(sector_index)\n",
        "pred <- c(graph_community$membership)\n",
        "print(sprintf(\"The homogenety for Daily data: %s\",homogeneity(true, pred)))\n",
        "print(sprintf(\"The completness for Daily data: %s\",completeness(true,pred)))"
      ],
      "metadata": {
        "id": "EzYHZLvGn6_K"
      },
      "execution_count": null,
      "outputs": []
    },
    {
      "cell_type": "markdown",
      "source": [
        "QUESTION 5: Report the value of α for the above two cases and provide an interpretation for the difference."
      ],
      "metadata": {
        "id": "NBL11MiOL2AL"
      }
    },
    {
      "cell_type": "code",
      "source": [
        "# generate the function for calculating the alpha\n",
        "calculate_alpha <- function(graph, log_return, ticker_sector, unique_sector)\n",
        "{\n",
        "  # generate the sector\n",
        "  Sector = c()\n",
        "  for (tempIndex in c(1:length(unique_sector)))\n",
        "  {\n",
        "    Sector[tempIndex] = length(which(unique_sector[tempIndex] == ticker_sector[,2]))\n",
        "  }\n",
        "  # generate the empty array for case one p\n",
        "  Pcase_1 <- c()\n",
        "  # generate the empty array for case two p\n",
        "  Pcase_2 <- c()\n",
        "  for(tempV in c(1:vcount(graph)))\n",
        "  {\n",
        "    neighbors_tempV = neighbors(graph, tempV)\n",
        "    N_i <- length(neighbors_tempV) \n",
        "    Q_i <- 0\n",
        "    for(tempIndex in neighbors_tempV)\n",
        "    {\n",
        "      if(ticker_sector[tempIndex,2]==ticker_sector[tempV,2])\n",
        "      {\n",
        "        Q_i = Q_i + 1\n",
        "      }\n",
        "    }\n",
        "    Pcase_1[tempV] = Q_i/N_i\n",
        "    Pcase_2[tempV] = Sector[which(unique_sector==ticker_sector[tempV,2])]/vcount(graph)\n",
        "  } \n",
        "  alpha_case_1 = sum(Pcase_1)/vcount(graph)\n",
        "  alpha_case_2 = sum(Pcase_2)/vcount(graph)\n",
        "  print(sprintf(\"The Alpga Value for The First Case: %s\", alpha_case_1))\n",
        "  print(sprintf(\"The Alpga Value for The Second Case: %s\", alpha_case_2))\n",
        "}"
      ],
      "metadata": {
        "id": "DWRqSiLcSlBD"
      },
      "execution_count": null,
      "outputs": []
    },
    {
      "cell_type": "code",
      "source": [
        "calculate_alpha(MST,log_return,ticker_sector,unique_sector)"
      ],
      "metadata": {
        "id": "Eq_ptFqeaHiP"
      },
      "execution_count": null,
      "outputs": []
    },
    {
      "cell_type": "markdown",
      "source": [
        "**Question 2 - 5 for WEEKLY data**"
      ],
      "metadata": {
        "id": "onbzzGSGbdzD"
      }
    },
    {
      "cell_type": "code",
      "source": [
        "ticker_sector = read.csv(\"finance_data/Name_sector.csv\", header=TRUE, stringsAsFactors=FALSE)\n",
        "unique_sector = unique(ticker_sector[,2])\n",
        "print(sprintf(\"The Number of Companies in The Ticker List is: %s\", nrow(ticker_sector)))\n",
        "print(sprintf(\"The Number of Unique Sectors: %s\", length(unique_sector)))"
      ],
      "metadata": {
        "id": "1X7aOZhie-rv"
      },
      "execution_count": null,
      "outputs": []
    },
    {
      "cell_type": "markdown",
      "source": [
        "QUESTION 6: Repeat questions 2,3,4,5 on the WEEKLY data."
      ],
      "metadata": {
        "id": "OLc6z0CkbIRt"
      }
    },
    {
      "cell_type": "markdown",
      "source": [
        "QUESTION 2: Plot a histogram showing the un-normalized distribution of edge weights."
      ],
      "metadata": {
        "id": "kQ312tWUbYW3"
      }
    },
    {
      "cell_type": "code",
      "source": [
        "# obtain the file names from the finance data\n",
        "filenames <- paste(\"finance_data/data\", list.files(\"finance_data/data\", pattern=\"*.csv\"), sep=\"/\")\n",
        "# generate a empty array to store the companies with missing data\n",
        "miss_data_comp <- c()\n",
        "# generate a empty array to stor the log return\n",
        "log_return <- matrix(0, length(filenames), 142)\n",
        "\n",
        "for (tempIndex in c(1:length(filenames)))\n",
        "{\n",
        "  # store the current company data\n",
        "  temp_comp_data <- read.csv(filenames[tempIndex], header=TRUE, stringsAsFactors=FALSE)\n",
        "  temp_comp_data[\"Day\"] <- weekdays(as.Date(temp_comp_data[,1]))\n",
        "  temp_comp_data <- subset(temp_comp_data, Day == 'Monday')\n",
        "  # judge whether the company has some missing data through checking the dimension\n",
        "  if(dim(temp_comp_data)[1] != 143)\n",
        "  {\n",
        "    miss_data_comp <- append(miss_data_comp, tempIndex)\n",
        "  }\n",
        "  else\n",
        "  {\n",
        "    p_i <- temp_comp_data[,5]\n",
        "    q_i <- c()\n",
        "    r_i <- c()\n",
        "    for (tempT in c(2:length(p_i)))\n",
        "    {\n",
        "      q_i[tempT-1] <- (p_i[tempT] - p_i[tempT-1])/p_i[tempT - 1]\n",
        "    }\n",
        "    r_i = log(q_i + 1)\n",
        "    log_return[tempIndex,] = r_i\n",
        "  }\n",
        "}\n",
        "ticker_sector <- ticker_sector[-miss_data_comp,]\n",
        "log_return <- log_return[-miss_data_comp,]"
      ],
      "metadata": {
        "id": "C0dtxdJlbOIq"
      },
      "execution_count": null,
      "outputs": []
    },
    {
      "cell_type": "code",
      "source": [
        "edge_file <- file(\"finance_data/edges_date_weekly.txt\", \"w\")\n",
        "calculate_correlation(edge_file, log_return, ticker_sector)\n",
        "close(edge_file)"
      ],
      "metadata": {
        "id": "972Qz9JDfsIp"
      },
      "execution_count": null,
      "outputs": []
    },
    {
      "cell_type": "code",
      "source": [
        "edge_list = read.delim(\"finance_data/edges_date_weekly.txt\", header=TRUE)\n",
        "graph_frame = graph.data.frame(edge_list, directed = FALSE)\n",
        "E(graph_frame)$weight = edge_list[,\"weight\"]\n",
        "hist(E(graph_frame)$weight, col=\"orange\", main=\"The  Distribution of Un-Normalized Edge Weights for Weekly\",xlab=\"The Edge Weights\", ylab=\"The Frequency of Edge Weights\")"
      ],
      "metadata": {
        "id": "56Z4h78igB5Y"
      },
      "execution_count": null,
      "outputs": []
    },
    {
      "cell_type": "markdown",
      "source": [
        "QUESTION 3: Extract the MST of the correlation graph. Each stock can be categorized into a sector, which can be found in Name sector.csv file. Plot the MST and color-code the nodes\n",
        "based on sectors. Do you see any pattern in the MST? The structures that you find in MST are called Vine clusters. Provide a detailed explanation about the pattern you observe"
      ],
      "metadata": {
        "id": "xMM6Fhb9go_Y"
      }
    },
    {
      "cell_type": "code",
      "source": [
        "# generate a empty array to stor the index of each sector\n",
        "sector_index <- c()\n",
        "colorPalette <- rainbow(length(unique_sector), s = 1, v = 1)\n",
        "for(tempIndex in c(1:vcount(graph_frame))) \n",
        "{\n",
        "    sector_index = append(sector_index, which(unique_sector == ticker_sector[tempIndex, 2]))\n",
        "}\n",
        "MST <- mst(graph_frame, algorithm=\"prim\")\n",
        "\n",
        "# Set a larger plot size\n",
        "options(repr.plot.width = 8, repr.plot.height = 12)\n",
        "\n",
        "plot(MST, vertex.size=3, vertex.label=NA, vertex.color=colorPalette[sector_index])\n",
        "\n",
        "# Custom legend with color squares and names\n",
        "legend_colors <- colorPalette\n",
        "legend_names <- unique_sector\n",
        "legend(x=-1,y = -1, legend = legend_names, fill = legend_colors, bty = \"n\", ncol=2, cex = 1)\n",
        "\n",
        "par(xpd=TRUE)\n",
        "title(\"The MST of The Correlation Graph\")"
      ],
      "metadata": {
        "id": "bkRVUpusgpoT"
      },
      "execution_count": null,
      "outputs": []
    },
    {
      "cell_type": "markdown",
      "source": [
        "QUESTION 4: Run a community detection algorithm (for example walktrap) on the MST obtained above. Plot the communities formed. Compute the homogeneity and completeness of the clustering. (you can use the ’clevr’ library in r to compute homogeneity and completeness)."
      ],
      "metadata": {
        "id": "RYkt-91ggv_b"
      }
    },
    {
      "cell_type": "code",
      "source": [
        "graph_community = cluster_walktrap(MST)\n",
        "# Set a larger plot size\n",
        "options(repr.plot.width = 8, repr.plot.height = 8)\n",
        "plot(MST, mark.groups=graph_community, edge.width=0.5,\n",
        "     vertex.size=3, vertex.color=graph_community$membership, vertex.label=\"\",\n",
        "     main=\"The Community Structure for The MST\")"
      ],
      "metadata": {
        "id": "X-Q6Qmx6gwNS"
      },
      "execution_count": null,
      "outputs": []
    },
    {
      "cell_type": "code",
      "source": [
        "# homogeneity and completeness\n",
        "# figure out true and pred\n",
        "true <- c(sector_index)\n",
        "pred <- c(graph_community$membership)\n",
        "print(sprintf(\"The homogenety for Daily data: %s\",homogeneity(true, pred)))\n",
        "print(sprintf(\"The completness for Daily data: %s\",completeness(true,pred)))"
      ],
      "metadata": {
        "id": "TPETunpzpTmi"
      },
      "execution_count": null,
      "outputs": []
    },
    {
      "cell_type": "markdown",
      "source": [
        "QUESTION 5: Report the value of α for the above two cases and provide an interpretation for the difference."
      ],
      "metadata": {
        "id": "3kHjvDFMh7I_"
      }
    },
    {
      "cell_type": "code",
      "source": [
        "calculate_alpha(MST,log_return,ticker_sector,unique_sector)"
      ],
      "metadata": {
        "id": "j4RTcmHih7Us"
      },
      "execution_count": null,
      "outputs": []
    },
    {
      "cell_type": "markdown",
      "source": [
        "**Question 2 - 5 for MONTHLY data**"
      ],
      "metadata": {
        "id": "oOIYPflBsKqU"
      }
    },
    {
      "cell_type": "code",
      "source": [
        "ticker_sector = read.csv(\"finance_data/Name_sector.csv\", header=TRUE, stringsAsFactors=FALSE)\n",
        "unique_sector = unique(ticker_sector[,2])\n",
        "print(sprintf(\"The Number of Companies in The Ticker List is: %s\", nrow(ticker_sector)))\n",
        "print(sprintf(\"The Number of Unique Sectors: %s\", length(unique_sector)))"
      ],
      "metadata": {
        "id": "qGWzaN3isKy7"
      },
      "execution_count": null,
      "outputs": []
    },
    {
      "cell_type": "markdown",
      "source": [
        "QUESTION 7: Repeat questions 2,3,4,5 on the MONTHLY data."
      ],
      "metadata": {
        "id": "mNQ_TfpZiJVo"
      }
    },
    {
      "cell_type": "markdown",
      "source": [
        "QUESTION 2: Plot a histogram showing the un-normalized distribution of edge weights."
      ],
      "metadata": {
        "id": "uh5FccgKiHn9"
      }
    },
    {
      "cell_type": "code",
      "source": [
        "# obtain the file names from the finance data\n",
        "filenames <- paste(\"finance_data/data\", list.files(\"finance_data/data\", pattern=\"*.csv\"), sep=\"/\")\n",
        "# generate a empty array to store the companies with missing data\n",
        "miss_data_comp <- c()\n",
        "# generate a empty array to stor the log return\n",
        "log_return <- matrix(0, length(filenames), 24)\n",
        "\n",
        "for (tempIndex in c(1:length(filenames)))\n",
        "{\n",
        "  # store the current company data\n",
        "  temp_comp_data <- read.csv(filenames[tempIndex], header=TRUE, stringsAsFactors=FALSE)\n",
        "  temp_comp_data[\"Day\"] <- format(as.Date(temp_comp_data[,1]), format = \"%d\")\n",
        "  temp_comp_data <- subset(temp_comp_data, Day == '15')\n",
        "  # judge whether the company has some missing data through checking the dimension\n",
        "  if(dim(temp_comp_data)[1] != 25)\n",
        "  {\n",
        "    miss_data_comp <- append(miss_data_comp, tempIndex)\n",
        "  }\n",
        "  else\n",
        "  {\n",
        "    p_i <- temp_comp_data[,5]\n",
        "    q_i <- c()\n",
        "    r_i <- c()\n",
        "    for (tempT in c(2:length(p_i)))\n",
        "    {\n",
        "      q_i[tempT-1] <- (p_i[tempT] - p_i[tempT-1])/p_i[tempT - 1]\n",
        "    }\n",
        "    r_i = log(q_i + 1)\n",
        "    log_return[tempIndex,] = r_i\n",
        "  }\n",
        "}\n",
        "ticker_sector <- ticker_sector[-miss_data_comp,]\n",
        "log_return <- log_return[-miss_data_comp,]"
      ],
      "metadata": {
        "id": "iWfIi-sZiwpA"
      },
      "execution_count": null,
      "outputs": []
    },
    {
      "cell_type": "code",
      "source": [
        "edge_file <- file(\"finance_data/edges_date_monthly.txt\", \"w\")\n",
        "calculate_correlation(edge_file, log_return, ticker_sector)\n",
        "close(edge_file)"
      ],
      "metadata": {
        "id": "Wk7HGpSkiISS"
      },
      "execution_count": null,
      "outputs": []
    },
    {
      "cell_type": "code",
      "source": [
        "edge_list = read.delim(\"finance_data/edges_date_monthly.txt\", header=TRUE)\n",
        "graph_frame = graph.data.frame(edge_list, directed = FALSE)\n",
        "E(graph_frame)$weight = edge_list[,\"weight\"]\n",
        "hist(E(graph_frame)$weight, col=\"orange\", main=\"The  Distribution of Un-Normalized Edge Weights for Weekly\",xlab=\"The Edge Weights\", ylab=\"The Frequency of Edge Weights\")"
      ],
      "metadata": {
        "id": "1Zv3HZYsrpMc"
      },
      "execution_count": null,
      "outputs": []
    },
    {
      "cell_type": "markdown",
      "source": [
        "QUESTION 3: Extract the MST of the correlation graph. Each stock can be categorized into a sector, which can be found in Name sector.csv file. Plot the MST and color-code the nodes\n",
        "based on sectors. Do you see any pattern in the MST? The structures that you find in MST are called Vine clusters. Provide a detailed explanation about the pattern you observe"
      ],
      "metadata": {
        "id": "w-KTecVsspKv"
      }
    },
    {
      "cell_type": "code",
      "source": [
        "# generate a empty array to stor the index of each sector\n",
        "sector_index <- c()\n",
        "colorPalette <- rainbow(length(unique_sector), s = 1, v = 1)\n",
        "for(tempIndex in c(1:vcount(graph_frame))) \n",
        "{\n",
        "    sector_index = append(sector_index, which(unique_sector == ticker_sector[tempIndex, 2]))\n",
        "}\n",
        "MST <- mst(graph_frame, algorithm=\"prim\")\n",
        "\n",
        "# Set a larger plot size\n",
        "options(repr.plot.width = 8, repr.plot.height = 12)\n",
        "\n",
        "plot(MST, vertex.size=3, vertex.label=NA, vertex.color=colorPalette[sector_index])\n",
        "\n",
        "# Custom legend with color squares and names\n",
        "legend_colors <- colorPalette\n",
        "legend_names <- unique_sector\n",
        "legend(x=-1,y = -1, legend = legend_names, fill = legend_colors, bty = \"n\", ncol=2, cex = 1)\n",
        "\n",
        "par(xpd=TRUE)\n",
        "title(\"The MST of The Correlation Graph\")"
      ],
      "metadata": {
        "id": "PUlN87CZspTN"
      },
      "execution_count": null,
      "outputs": []
    },
    {
      "cell_type": "markdown",
      "source": [
        "QUESTION 4: Run a community detection algorithm (for example walktrap) on the MST obtained above. Plot the communities formed. Compute the homogeneity and completeness of the clustering. (you can use the ’clevr’ library in r to compute homogeneity and completeness)."
      ],
      "metadata": {
        "id": "l-UtnTKvsw3S"
      }
    },
    {
      "cell_type": "code",
      "source": [
        "graph_community = cluster_walktrap(MST)\n",
        "# Set a larger plot size\n",
        "options(repr.plot.width = 8, repr.plot.height = 8)\n",
        "plot(MST, mark.groups=graph_community, edge.width=0.5,\n",
        "     vertex.size=3, vertex.color=graph_community$membership, vertex.label=\"\",\n",
        "     main=\"The Community Structure for The MST\")"
      ],
      "metadata": {
        "id": "4OUisQ5EsxCS"
      },
      "execution_count": null,
      "outputs": []
    },
    {
      "cell_type": "code",
      "source": [
        "# homogeneity and completeness\n",
        "# figure out true and pred\n",
        "true <- c(sector_index)\n",
        "pred <- c(graph_community$membership)\n",
        "print(sprintf(\"The homogenety for Daily data: %s\",homogeneity(true, pred)))\n",
        "print(sprintf(\"The completness for Daily data: %s\",completeness(true,pred)))"
      ],
      "metadata": {
        "id": "rICjOj0Ss9KN"
      },
      "execution_count": null,
      "outputs": []
    },
    {
      "cell_type": "markdown",
      "source": [
        "QUESTION 5: Report the value of α for the above two cases and provide an interpretation for the difference."
      ],
      "metadata": {
        "id": "Js1DCsF7tDPQ"
      }
    },
    {
      "cell_type": "code",
      "source": [
        "calculate_alpha(MST,log_return,ticker_sector,unique_sector)"
      ],
      "metadata": {
        "id": "qt5cmXOjtHRJ"
      },
      "execution_count": null,
      "outputs": []
    }
  ],
  "metadata": {
    "colab": {
      "provenance": [],
      "private_outputs": true,
      "gpuType": "T4"
    },
    "kernelspec": {
      "display_name": "R",
      "name": "ir"
    },
    "language_info": {
      "name": "R"
    },
    "accelerator": "GPU"
  },
  "nbformat": 4,
  "nbformat_minor": 0
}